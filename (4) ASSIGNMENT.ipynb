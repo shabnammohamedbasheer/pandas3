{
 "cells": [
  {
   "cell_type": "markdown",
   "id": "109da7a5",
   "metadata": {},
   "source": [
    "# ASSIGNMENT 2/8/2023"
   ]
  },
  {
   "cell_type": "markdown",
   "id": "3d2b146d",
   "metadata": {},
   "source": [
    "# (1)i want to retrieve all the emplyment type details by country- Distributions of different employment type in each countryPakistan,Afghanistan,Nepal,India,Maldives,Bhutan,Bangladesh,Sri Lanka"
   ]
  },
  {
   "cell_type": "code",
   "execution_count": 1,
   "id": "2dc802b1",
   "metadata": {},
   "outputs": [],
   "source": [
    "import pandas as pd\n",
    "import numpy as np"
   ]
  },
  {
   "cell_type": "code",
   "execution_count": 2,
   "id": "08ccab6f",
   "metadata": {},
   "outputs": [],
   "source": [
    "survey=pd.read_csv(\"survey_results_public.csv\",index_col=[0])"
   ]
  },
  {
   "cell_type": "code",
   "execution_count": 3,
   "id": "2eba6c52",
   "metadata": {},
   "outputs": [],
   "source": [
    "schema=pd.read_csv(\"survey_results_schema.csv\",index_col=[0])"
   ]
  },
  {
   "cell_type": "code",
   "execution_count": 4,
   "id": "ecc64562",
   "metadata": {},
   "outputs": [
    {
     "data": {
      "text/plain": [
       "Index(['MainBranch', 'Hobbyist', 'OpenSourcer', 'OpenSource', 'Employment',\n",
       "       'Country', 'Student', 'EdLevel', 'UndergradMajor', 'EduOther',\n",
       "       'OrgSize', 'DevType', 'YearsCode', 'Age1stCode', 'YearsCodePro',\n",
       "       'CareerSat', 'JobSat', 'MgrIdiot', 'MgrMoney', 'MgrWant', 'JobSeek',\n",
       "       'LastHireDate', 'LastInt', 'FizzBuzz', 'JobFactors', 'ResumeUpdate',\n",
       "       'CurrencySymbol', 'CurrencyDesc', 'CompTotal', 'CompFreq',\n",
       "       'ConvertedComp', 'WorkWeekHrs', 'WorkPlan', 'WorkChallenge',\n",
       "       'WorkRemote', 'WorkLoc', 'ImpSyn', 'CodeRev', 'CodeRevHrs', 'UnitTests',\n",
       "       'PurchaseHow', 'PurchaseWhat', 'LanguageWorkedWith',\n",
       "       'LanguageDesireNextYear', 'DatabaseWorkedWith',\n",
       "       'DatabaseDesireNextYear', 'PlatformWorkedWith',\n",
       "       'PlatformDesireNextYear', 'WebFrameWorkedWith',\n",
       "       'WebFrameDesireNextYear', 'MiscTechWorkedWith',\n",
       "       'MiscTechDesireNextYear', 'DevEnviron', 'OpSys', 'Containers',\n",
       "       'BlockchainOrg', 'BlockchainIs', 'BetterLife', 'ITperson', 'OffOn',\n",
       "       'SocialMedia', 'Extraversion', 'ScreenName', 'SOVisit1st',\n",
       "       'SOVisitFreq', 'SOVisitTo', 'SOFindAnswer', 'SOTimeSaved',\n",
       "       'SOHowMuchTime', 'SOAccount', 'SOPartFreq', 'SOJobs', 'EntTeams',\n",
       "       'SOComm', 'WelcomeChange', 'SONewContent', 'Age', 'Gender', 'Trans',\n",
       "       'Sexuality', 'Ethnicity', 'Dependents', 'SurveyLength', 'SurveyEase'],\n",
       "      dtype='object')"
      ]
     },
     "execution_count": 4,
     "metadata": {},
     "output_type": "execute_result"
    }
   ],
   "source": [
    "survey.columns"
   ]
  },
  {
   "cell_type": "code",
   "execution_count": 5,
   "id": "03994c99",
   "metadata": {},
   "outputs": [],
   "source": [
    "country_group=survey.groupby(\"Country\")"
   ]
  },
  {
   "cell_type": "code",
   "execution_count": 7,
   "id": "2609585d",
   "metadata": {},
   "outputs": [
    {
     "data": {
      "text/plain": [
       "Country      Employment                                          \n",
       "Afghanistan  Employed full-time                                      21\n",
       "             Independent contractor, freelancer, or self-employed     6\n",
       "             Employed part-time                                       4\n",
       "             Not employed, and not looking for work                   3\n",
       "             Not employed, but looking for work                       3\n",
       "                                                                     ..\n",
       "Zimbabwe     Independent contractor, freelancer, or self-employed     8\n",
       "             Not employed, but looking for work                       7\n",
       "             Employed part-time                                       3\n",
       "             Not employed, and not looking for work                   1\n",
       "             Retired                                                  1\n",
       "Name: Employment, Length: 780, dtype: int64"
      ]
     },
     "execution_count": 7,
     "metadata": {},
     "output_type": "execute_result"
    }
   ],
   "source": [
    "country_group[\"Employment\"].value_counts()"
   ]
  },
  {
   "cell_type": "code",
   "execution_count": 10,
   "id": "876a5511",
   "metadata": {},
   "outputs": [
    {
     "data": {
      "text/plain": [
       "array(['United Kingdom', 'Bosnia and Herzegovina', 'Thailand',\n",
       "       'United States', 'Ukraine', 'Canada', 'India', 'New Zealand',\n",
       "       'Antigua and Barbuda', 'Germany', 'Australia',\n",
       "       'Russian Federation', 'Brazil', 'Lithuania', 'Israel',\n",
       "       'South Africa', 'Colombia', 'Turkey', 'Switzerland', 'Argentina',\n",
       "       'Sri Lanka', 'Czech Republic', 'Denmark', 'Malaysia', 'Bangladesh',\n",
       "       'Spain', 'Serbia', 'Poland', 'Sweden', 'China', 'France',\n",
       "       'Netherlands', 'Italy', 'Philippines', 'Ireland', 'Pakistan',\n",
       "       'Azerbaijan', 'Austria', 'Estonia', 'Croatia', 'South Korea',\n",
       "       'Greece', 'Japan', 'Romania', 'Finland', 'Bulgaria', 'Viet Nam',\n",
       "       'Slovenia', 'Iran', 'Belarus', 'Hungary', 'Latvia',\n",
       "       'Hong Kong (S.A.R.)', 'United Arab Emirates', 'Portugal',\n",
       "       'Nigeria', 'Norway', 'Nicaragua', 'Zimbabwe', 'Egypt', 'Mexico',\n",
       "       'Dominican Republic', 'Guatemala', 'Chile', 'Ecuador', 'Ghana',\n",
       "       'Uganda', 'Cambodia', 'Mauritius', 'Nepal', 'Singapore',\n",
       "       'Sierra Leone', 'Republic of Moldova', 'Belgium', 'Armenia',\n",
       "       'Afghanistan', 'Bahrain', 'Mongolia', 'Georgia', 'Cyprus', 'Kenya',\n",
       "       'Luxembourg', 'Saudi Arabia', 'Cape Verde', 'Peru', 'Burundi',\n",
       "       'Iraq', 'Slovakia', 'Algeria', 'Taiwan', 'Yemen', 'Indonesia',\n",
       "       'Morocco', 'Libyan Arab Jamahiriya', 'Belize', 'Mali',\n",
       "       'Trinidad and Tobago', 'Venezuela, Bolivarian Republic of...',\n",
       "       'Panama', 'Lebanon', 'Tunisia', 'Kuwait', 'Andorra',\n",
       "       \"Côte d'Ivoire\", 'Syrian Arab Republic', 'El Salvador', 'Cameroon',\n",
       "       'Malta', 'Turkmenistan', 'Brunei Darussalam',\n",
       "       'Other Country (Not Listed Above)', 'Costa Rica', 'Jordan',\n",
       "       'Albania', 'Uzbekistan', 'Sudan', 'Kazakhstan',\n",
       "       'The former Yugoslav Republic of Macedonia', 'Ethiopia',\n",
       "       'Paraguay', 'Myanmar', 'Somalia', 'Guyana', 'Honduras', 'Qatar',\n",
       "       'Jamaica', 'Fiji', 'Haiti', 'Democratic Republic of the Congo',\n",
       "       'Benin', 'Namibia', 'Montenegro', 'Rwanda', 'Tajikistan',\n",
       "       'Uruguay', 'Mauritania', 'Bolivia', 'Gabon', 'Liechtenstein',\n",
       "       'United Republic of Tanzania', 'Kyrgyzstan',\n",
       "       \"Lao People's Democratic Republic\", 'Madagascar', 'Guinea',\n",
       "       'Republic of Korea', 'Cuba', 'Maldives', 'Monaco', 'North Korea',\n",
       "       'Senegal', 'Angola', 'Iceland', 'Togo', 'Swaziland',\n",
       "       'Congo, Republic of the...', 'Zambia', 'Oman', 'Timor-Leste',\n",
       "       'Tonga', 'Djibouti', \"Democratic People's Republic of Korea\",\n",
       "       'Niger', 'Mozambique', 'Botswana', 'Dominica', 'Papua New Guinea',\n",
       "       'Barbados', 'Seychelles', 'Lesotho', 'Bahamas', 'Burkina Faso',\n",
       "       'Saint Kitts and Nevis', 'Malawi', 'Liberia', 'Bhutan',\n",
       "       'Saint Vincent and the Grenadines', 'San Marino',\n",
       "       'Sao Tome and Principe', 'Chad', nan], dtype=object)"
      ]
     },
     "execution_count": 10,
     "metadata": {},
     "output_type": "execute_result"
    }
   ],
   "source": [
    "survey[\"Country\"].unique()"
   ]
  },
  {
   "cell_type": "code",
   "execution_count": 11,
   "id": "9585f74b",
   "metadata": {},
   "outputs": [
    {
     "data": {
      "text/plain": [
       "Respondent\n",
       "84                                      Employed full-time\n",
       "119                                     Employed full-time\n",
       "298                                                    NaN\n",
       "299                                     Employed part-time\n",
       "311                                     Employed full-time\n",
       "                               ...                        \n",
       "88862    Independent contractor, freelancer, or self-em...\n",
       "5439                    Not employed, but looking for work\n",
       "39117                   Not employed, but looking for work\n",
       "60066               Not employed, and not looking for work\n",
       "88182                                   Employed part-time\n",
       "Name: Employment, Length: 923, dtype: object"
      ]
     },
     "execution_count": 11,
     "metadata": {},
     "output_type": "execute_result"
    }
   ],
   "source": [
    "country_group[\"Employment\"].get_group(\"Pakistan\")"
   ]
  },
  {
   "cell_type": "code",
   "execution_count": 12,
   "id": "58bf0df0",
   "metadata": {},
   "outputs": [
    {
     "data": {
      "text/plain": [
       "Respondent\n",
       "722                                                    NaN\n",
       "6417                                    Employed full-time\n",
       "7085     Independent contractor, freelancer, or self-em...\n",
       "7353                                               Retired\n",
       "8149                                    Employed full-time\n",
       "10746                                   Employed full-time\n",
       "12310                                                  NaN\n",
       "22450                                   Employed full-time\n",
       "26340                   Not employed, but looking for work\n",
       "28638    Independent contractor, freelancer, or self-em...\n",
       "29045                                   Employed full-time\n",
       "29736                                   Employed full-time\n",
       "33178               Not employed, and not looking for work\n",
       "37802                                                  NaN\n",
       "39258                                   Employed full-time\n",
       "40000               Not employed, and not looking for work\n",
       "43106                                   Employed part-time\n",
       "44403                                   Employed part-time\n",
       "45854                                   Employed full-time\n",
       "47110                   Not employed, but looking for work\n",
       "48436                                   Employed full-time\n",
       "49702                                   Employed full-time\n",
       "50499                                   Employed full-time\n",
       "50767    Independent contractor, freelancer, or self-em...\n",
       "51859    Independent contractor, freelancer, or self-em...\n",
       "58450                                   Employed full-time\n",
       "58760                                   Employed full-time\n",
       "59560               Not employed, and not looking for work\n",
       "60569                                   Employed part-time\n",
       "60946                                   Employed full-time\n",
       "62168    Independent contractor, freelancer, or self-em...\n",
       "62525                                   Employed full-time\n",
       "63129                                   Employed full-time\n",
       "74386                                   Employed part-time\n",
       "80926                   Not employed, but looking for work\n",
       "85715                                   Employed full-time\n",
       "85825    Independent contractor, freelancer, or self-em...\n",
       "86362                                   Employed full-time\n",
       "86932                                   Employed full-time\n",
       "87091                                   Employed full-time\n",
       "88582                                   Employed full-time\n",
       "88731                                                  NaN\n",
       "2782                                                   NaN\n",
       "63019                                                  NaN\n",
       "Name: Employment, dtype: object"
      ]
     },
     "execution_count": 12,
     "metadata": {},
     "output_type": "execute_result"
    }
   ],
   "source": [
    "country_group[\"Employment\"].get_group(\"Afghanistan\")"
   ]
  },
  {
   "cell_type": "code",
   "execution_count": 13,
   "id": "a6a6b48a",
   "metadata": {},
   "outputs": [
    {
     "data": {
      "text/plain": [
       "Respondent\n",
       "8        Not employed, but looking for work\n",
       "10                       Employed full-time\n",
       "15       Not employed, but looking for work\n",
       "50                       Employed full-time\n",
       "65                       Employed full-time\n",
       "                        ...                \n",
       "77339                    Employed full-time\n",
       "79795                    Employed full-time\n",
       "83862                    Employed full-time\n",
       "84299                    Employed full-time\n",
       "86012                    Employed full-time\n",
       "Name: Employment, Length: 9061, dtype: object"
      ]
     },
     "execution_count": 13,
     "metadata": {},
     "output_type": "execute_result"
    }
   ],
   "source": [
    "country_group[\"Employment\"].get_group(\"India\")"
   ]
  },
  {
   "cell_type": "code",
   "execution_count": 14,
   "id": "cc87d340",
   "metadata": {},
   "outputs": [
    {
     "data": {
      "text/plain": [
       "Respondent\n",
       "34                      Not employed, but looking for work\n",
       "55       Independent contractor, freelancer, or self-em...\n",
       "906                                     Employed full-time\n",
       "1020                Not employed, and not looking for work\n",
       "1104                    Not employed, but looking for work\n",
       "                               ...                        \n",
       "88275    Independent contractor, freelancer, or self-em...\n",
       "88276    Independent contractor, freelancer, or self-em...\n",
       "88410                   Not employed, but looking for work\n",
       "26812    Independent contractor, freelancer, or self-em...\n",
       "48421                                                  NaN\n",
       "Name: Employment, Length: 372, dtype: object"
      ]
     },
     "execution_count": 14,
     "metadata": {},
     "output_type": "execute_result"
    }
   ],
   "source": [
    "country_group[\"Employment\"].get_group(\"Sri Lanka\")"
   ]
  },
  {
   "cell_type": "code",
   "execution_count": 15,
   "id": "b10ca8a2",
   "metadata": {},
   "outputs": [
    {
     "data": {
      "text/plain": [
       "Respondent\n",
       "6626                Not employed, and not looking for work\n",
       "14063                                   Employed part-time\n",
       "19428    Independent contractor, freelancer, or self-em...\n",
       "34461                                   Employed full-time\n",
       "35148                                   Employed full-time\n",
       "46961                   Not employed, but looking for work\n",
       "59277                                                  NaN\n",
       "59286                                   Employed full-time\n",
       "66937                                   Employed full-time\n",
       "73335                                   Employed part-time\n",
       "73975                                   Employed full-time\n",
       "81490                                   Employed full-time\n",
       "87121    Independent contractor, freelancer, or self-em...\n",
       "Name: Employment, dtype: object"
      ]
     },
     "execution_count": 15,
     "metadata": {},
     "output_type": "execute_result"
    }
   ],
   "source": [
    "country_group[\"Employment\"].get_group(\"Maldives\")"
   ]
  },
  {
   "cell_type": "code",
   "execution_count": 16,
   "id": "923ca07c",
   "metadata": {},
   "outputs": [
    {
     "data": {
      "text/plain": [
       "Respondent\n",
       "40451    Independent contractor, freelancer, or self-em...\n",
       "49033                                   Employed full-time\n",
       "Name: Employment, dtype: object"
      ]
     },
     "execution_count": 16,
     "metadata": {},
     "output_type": "execute_result"
    }
   ],
   "source": [
    "country_group[\"Employment\"].get_group(\"Bhutan\")"
   ]
  },
  {
   "cell_type": "code",
   "execution_count": 17,
   "id": "16b1db0b",
   "metadata": {},
   "outputs": [
    {
     "data": {
      "text/plain": [
       "Respondent\n",
       "42                       Employed full-time\n",
       "171      Not employed, but looking for work\n",
       "300      Not employed, but looking for work\n",
       "324                      Employed full-time\n",
       "690                                 Retired\n",
       "                        ...                \n",
       "40072                                   NaN\n",
       "62740                                   NaN\n",
       "64910                                   NaN\n",
       "78004                                   NaN\n",
       "81624                               Retired\n",
       "Name: Employment, Length: 605, dtype: object"
      ]
     },
     "execution_count": 17,
     "metadata": {},
     "output_type": "execute_result"
    }
   ],
   "source": [
    "country_group[\"Employment\"].get_group(\"Bangladesh\")"
   ]
  },
  {
   "cell_type": "code",
   "execution_count": 18,
   "id": "2180f93c",
   "metadata": {},
   "outputs": [
    {
     "data": {
      "text/plain": [
       "Respondent\n",
       "508                     Not employed, but looking for work\n",
       "592      Independent contractor, freelancer, or self-em...\n",
       "984                                     Employed full-time\n",
       "1355                                    Employed full-time\n",
       "1783                                    Employed full-time\n",
       "                               ...                        \n",
       "86618                                   Employed full-time\n",
       "86742                                   Employed full-time\n",
       "87231                                   Employed full-time\n",
       "87568                                   Employed full-time\n",
       "88543                                   Employed full-time\n",
       "Name: Employment, Length: 237, dtype: object"
      ]
     },
     "execution_count": 18,
     "metadata": {},
     "output_type": "execute_result"
    }
   ],
   "source": [
    "country_group[\"Employment\"].get_group(\"Nepal\")"
   ]
  },
  {
   "cell_type": "markdown",
   "id": "6ed8358e",
   "metadata": {},
   "source": [
    "# (2) - percentage of retired people in different countries \n",
    "Pakistan,Afghanistan,Nepal,India,Maldives,Bhutan,Bangladesh,Sri Lanka,United States"
   ]
  },
  {
   "cell_type": "code",
   "execution_count": 25,
   "id": "851edd71",
   "metadata": {},
   "outputs": [
    {
     "data": {
      "text/plain": [
       "False    0.999432\n",
       "True     0.000568\n",
       "Name: Employment, dtype: float64"
      ]
     },
     "execution_count": 25,
     "metadata": {},
     "output_type": "execute_result"
    }
   ],
   "source": [
    "country_group[\"Employment\"].get_group(\"India\").str.contains(\"Retired\").value_counts(normalize=True)"
   ]
  },
  {
   "cell_type": "code",
   "execution_count": 30,
   "id": "a2b82a18",
   "metadata": {},
   "outputs": [
    {
     "data": {
      "text/plain": [
       "False    0.973684\n",
       "True     0.026316\n",
       "Name: Employment, dtype: float64"
      ]
     },
     "execution_count": 30,
     "metadata": {},
     "output_type": "execute_result"
    }
   ],
   "source": [
    "country_group[\"Employment\"].get_group(\"Afghanistan\").str.contains(\"Retired\").value_counts(normalize=True)"
   ]
  },
  {
   "cell_type": "code",
   "execution_count": 31,
   "id": "be0191ea",
   "metadata": {},
   "outputs": [
    {
     "data": {
      "text/plain": [
       "False    1.0\n",
       "Name: Employment, dtype: float64"
      ]
     },
     "execution_count": 31,
     "metadata": {},
     "output_type": "execute_result"
    }
   ],
   "source": [
    "country_group[\"Employment\"].get_group(\"Pakistan\").str.contains(\"Retired\").value_counts(normalize=True)"
   ]
  },
  {
   "cell_type": "code",
   "execution_count": 33,
   "id": "8e57fd6b",
   "metadata": {},
   "outputs": [
    {
     "data": {
      "text/plain": [
       "False    1.0\n",
       "Name: Employment, dtype: float64"
      ]
     },
     "execution_count": 33,
     "metadata": {},
     "output_type": "execute_result"
    }
   ],
   "source": [
    "country_group[\"Employment\"].get_group(\"Maldives\").str.contains(\"Retired\").value_counts(normalize=True)"
   ]
  },
  {
   "cell_type": "code",
   "execution_count": 34,
   "id": "2af465d7",
   "metadata": {},
   "outputs": [
    {
     "data": {
      "text/plain": [
       "False    1.0\n",
       "Name: Employment, dtype: float64"
      ]
     },
     "execution_count": 34,
     "metadata": {},
     "output_type": "execute_result"
    }
   ],
   "source": [
    "country_group[\"Employment\"].get_group(\"Sri Lanka\").str.contains(\"Retired\").value_counts(normalize=True)"
   ]
  },
  {
   "cell_type": "code",
   "execution_count": 35,
   "id": "0259b0d4",
   "metadata": {},
   "outputs": [
    {
     "data": {
      "text/plain": [
       "False    1.0\n",
       "Name: Employment, dtype: float64"
      ]
     },
     "execution_count": 35,
     "metadata": {},
     "output_type": "execute_result"
    }
   ],
   "source": [
    "country_group[\"Employment\"].get_group(\"Nepal\").str.contains(\"Retired\").value_counts(normalize=True)"
   ]
  },
  {
   "cell_type": "code",
   "execution_count": 37,
   "id": "cb160dee",
   "metadata": {},
   "outputs": [
    {
     "data": {
      "text/plain": [
       "False    0.994889\n",
       "True     0.005111\n",
       "Name: Employment, dtype: float64"
      ]
     },
     "execution_count": 37,
     "metadata": {},
     "output_type": "execute_result"
    }
   ],
   "source": [
    "country_group[\"Employment\"].get_group(\"Bangladesh\").str.contains(\"Retired\").value_counts(normalize=True)"
   ]
  },
  {
   "cell_type": "code",
   "execution_count": 38,
   "id": "568d5c2d",
   "metadata": {},
   "outputs": [
    {
     "data": {
      "text/plain": [
       "False    1.0\n",
       "Name: Employment, dtype: float64"
      ]
     },
     "execution_count": 38,
     "metadata": {},
     "output_type": "execute_result"
    }
   ],
   "source": [
    "country_group[\"Employment\"].get_group(\"Bhutan\").str.contains(\"Retired\").value_counts(normalize=True)"
   ]
  },
  {
   "cell_type": "code",
   "execution_count": 39,
   "id": "71ce8d71",
   "metadata": {},
   "outputs": [
    {
     "data": {
      "text/plain": [
       "False    0.993321\n",
       "True     0.006679\n",
       "Name: Employment, dtype: float64"
      ]
     },
     "execution_count": 39,
     "metadata": {},
     "output_type": "execute_result"
    }
   ],
   "source": [
    "country_group[\"Employment\"].get_group(\"United States\").str.contains(\"Retired\").value_counts(normalize=True)"
   ]
  },
  {
   "cell_type": "markdown",
   "id": "c84e1a0f",
   "metadata": {},
   "source": [
    "# ASSIGNMENT 07/08/2023\n"
   ]
  },
  {
   "cell_type": "markdown",
   "id": "7d25c4c4",
   "metadata": {},
   "source": [
    "# (1) Value counts of Gender wise by Country"
   ]
  },
  {
   "cell_type": "code",
   "execution_count": 41,
   "id": "b096fde3",
   "metadata": {},
   "outputs": [
    {
     "data": {
      "text/plain": [
       "Country      Gender                                                     \n",
       "Afghanistan  Man                                                            26\n",
       "             Woman                                                           2\n",
       "             Non-binary, genderqueer, or gender non-conforming               1\n",
       "             Woman;Man;Non-binary, genderqueer, or gender non-conforming     1\n",
       "Albania      Man                                                            70\n",
       "                                                                            ..\n",
       "Yemen        Woman;Man                                                       1\n",
       "Zambia       Man                                                            11\n",
       "             Woman                                                           1\n",
       "Zimbabwe     Man                                                            37\n",
       "             Woman                                                           2\n",
       "Name: Gender, Length: 539, dtype: int64"
      ]
     },
     "execution_count": 41,
     "metadata": {},
     "output_type": "execute_result"
    }
   ],
   "source": [
    "country_group[\"Gender\"].value_counts()"
   ]
  },
  {
   "cell_type": "markdown",
   "id": "68868172",
   "metadata": {},
   "source": [
    "# (2)Gender wise Python Users in each country"
   ]
  },
  {
   "cell_type": "code",
   "execution_count": 42,
   "id": "5e66d714",
   "metadata": {},
   "outputs": [],
   "source": [
    "gender_group=survey.groupby(\"Gender\")"
   ]
  },
  {
   "cell_type": "code",
   "execution_count": 45,
   "id": "1c01dbfb",
   "metadata": {},
   "outputs": [
    {
     "ename": "AttributeError",
     "evalue": "'SeriesGroupBy' object has no attribute 'str'",
     "output_type": "error",
     "traceback": [
      "\u001b[1;31m---------------------------------------------------------------------------\u001b[0m",
      "\u001b[1;31mAttributeError\u001b[0m                            Traceback (most recent call last)",
      "Cell \u001b[1;32mIn[45], line 1\u001b[0m\n\u001b[1;32m----> 1\u001b[0m \u001b[43mgender_group\u001b[49m\u001b[43m[\u001b[49m\u001b[38;5;124;43m\"\u001b[39;49m\u001b[38;5;124;43mLanguageWorkedWith\u001b[39;49m\u001b[38;5;124;43m\"\u001b[39;49m\u001b[43m]\u001b[49m\u001b[38;5;241;43m.\u001b[39;49m\u001b[43mstr\u001b[49m\u001b[38;5;241m.\u001b[39mcontains(\u001b[38;5;124m\"\u001b[39m\u001b[38;5;124mPython\u001b[39m\u001b[38;5;124m\"\u001b[39m)\u001b[38;5;241m.\u001b[39mvalue_counts()\n",
      "File \u001b[1;32mC:\\hello world\\lib\\site-packages\\pandas\\core\\groupby\\groupby.py:987\u001b[0m, in \u001b[0;36mGroupBy.__getattr__\u001b[1;34m(self, attr)\u001b[0m\n\u001b[0;32m    984\u001b[0m \u001b[38;5;28;01mif\u001b[39;00m attr \u001b[38;5;129;01min\u001b[39;00m \u001b[38;5;28mself\u001b[39m\u001b[38;5;241m.\u001b[39mobj:\n\u001b[0;32m    985\u001b[0m     \u001b[38;5;28;01mreturn\u001b[39;00m \u001b[38;5;28mself\u001b[39m[attr]\n\u001b[1;32m--> 987\u001b[0m \u001b[38;5;28;01mraise\u001b[39;00m \u001b[38;5;167;01mAttributeError\u001b[39;00m(\n\u001b[0;32m    988\u001b[0m     \u001b[38;5;124mf\u001b[39m\u001b[38;5;124m\"\u001b[39m\u001b[38;5;124m'\u001b[39m\u001b[38;5;132;01m{\u001b[39;00m\u001b[38;5;28mtype\u001b[39m(\u001b[38;5;28mself\u001b[39m)\u001b[38;5;241m.\u001b[39m\u001b[38;5;18m__name__\u001b[39m\u001b[38;5;132;01m}\u001b[39;00m\u001b[38;5;124m'\u001b[39m\u001b[38;5;124m object has no attribute \u001b[39m\u001b[38;5;124m'\u001b[39m\u001b[38;5;132;01m{\u001b[39;00mattr\u001b[38;5;132;01m}\u001b[39;00m\u001b[38;5;124m'\u001b[39m\u001b[38;5;124m\"\u001b[39m\n\u001b[0;32m    989\u001b[0m )\n",
      "\u001b[1;31mAttributeError\u001b[0m: 'SeriesGroupBy' object has no attribute 'str'"
     ]
    }
   ],
   "source": [
    "gender_group[\"LanguageWorkedWith\"].str.contains(\"Python\").value_counts()"
   ]
  },
  {
   "cell_type": "markdown",
   "id": "12e406f2",
   "metadata": {},
   "source": [
    "# (3)Groupby EdLevel, Salary Median"
   ]
  },
  {
   "cell_type": "code",
   "execution_count": 46,
   "id": "86d949a5",
   "metadata": {},
   "outputs": [],
   "source": [
    "edlevel=survey.groupby(\"EdLevel\")"
   ]
  },
  {
   "cell_type": "code",
   "execution_count": 47,
   "id": "bc350081",
   "metadata": {},
   "outputs": [
    {
     "data": {
      "text/plain": [
       "EdLevel\n",
       "Associate degree                                                                      56092.5\n",
       "Bachelor’s degree (BA, BS, B.Eng., etc.)                                              60000.0\n",
       "I never completed any formal education                                                53562.0\n",
       "Master’s degree (MA, MS, M.Eng., MBA, etc.)                                           57744.0\n",
       "Other doctoral degree (Ph.D, Ed.D., etc.)                                             81960.0\n",
       "Primary/elementary school                                                             34368.0\n",
       "Professional degree (JD, MD, etc.)                                                    32998.0\n",
       "Secondary school (e.g. American high school, German Realschule or Gymnasium, etc.)    37128.0\n",
       "Some college/university study without earning a degree                                52476.0\n",
       "Name: ConvertedComp, dtype: float64"
      ]
     },
     "execution_count": 47,
     "metadata": {},
     "output_type": "execute_result"
    }
   ],
   "source": [
    "edlevel[\"ConvertedComp\"].median()"
   ]
  },
  {
   "cell_type": "markdown",
   "id": "ac93cd7e",
   "metadata": {},
   "source": [
    "# (4)Years of experience grouping> Salary in terms of Years of Experience(median)"
   ]
  },
  {
   "cell_type": "code",
   "execution_count": 48,
   "id": "a873caa2",
   "metadata": {},
   "outputs": [],
   "source": [
    "exp_group=survey.groupby(\"YearsCode\")"
   ]
  },
  {
   "cell_type": "code",
   "execution_count": 49,
   "id": "0e2349f5",
   "metadata": {},
   "outputs": [
    {
     "data": {
      "text/plain": [
       "YearsCode           ConvertedComp\n",
       "1                   60000.0          10\n",
       "                    65000.0           9\n",
       "                    2520.0            7\n",
       "                    2000000.0         7\n",
       "                    45000.0           6\n",
       "                                     ..\n",
       "More than 50 years  154676.0          1\n",
       "                    180000.0          1\n",
       "                    250000.0          1\n",
       "                    628068.0          1\n",
       "                    785083.0          1\n",
       "Name: ConvertedComp, Length: 29825, dtype: int64"
      ]
     },
     "execution_count": 49,
     "metadata": {},
     "output_type": "execute_result"
    }
   ],
   "source": [
    "exp_group[\"ConvertedComp\"].value_counts()"
   ]
  },
  {
   "cell_type": "code",
   "execution_count": null,
   "id": "b726b998",
   "metadata": {},
   "outputs": [],
   "source": []
  },
  {
   "cell_type": "code",
   "execution_count": null,
   "id": "d06ca7f1",
   "metadata": {},
   "outputs": [],
   "source": []
  },
  {
   "cell_type": "markdown",
   "id": "905fa03b",
   "metadata": {},
   "source": [
    "# (5)Years of experience grouping> Count of Gender"
   ]
  },
  {
   "cell_type": "code",
   "execution_count": null,
   "id": "ac6df3a4",
   "metadata": {},
   "outputs": [],
   "source": [
    "exp_"
   ]
  }
 ],
 "metadata": {
  "kernelspec": {
   "display_name": "Python 3 (ipykernel)",
   "language": "python",
   "name": "python3"
  },
  "language_info": {
   "codemirror_mode": {
    "name": "ipython",
    "version": 3
   },
   "file_extension": ".py",
   "mimetype": "text/x-python",
   "name": "python",
   "nbconvert_exporter": "python",
   "pygments_lexer": "ipython3",
   "version": "3.10.9"
  }
 },
 "nbformat": 4,
 "nbformat_minor": 5
}
